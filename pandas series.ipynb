{
 "cells": [
  {
   "cell_type": "code",
   "execution_count": 2,
   "id": "0beebac0",
   "metadata": {},
   "outputs": [
    {
     "name": "stdout",
     "output_type": "stream",
     "text": [
      "0    10\n",
      "1    20\n",
      "2    30\n",
      "3    40\n",
      "dtype: int64\n",
      "[10 20 30 40]\n",
      "RangeIndex(start=0, stop=4, step=1)\n",
      "<class 'pandas.core.series.Series'>\n",
      "RangeIndex(start=0, stop=4, step=1)\n",
      "[10 20 30 40]\n",
      "10\n",
      "\n",
      "20\n",
      "\n",
      "2    30\n",
      "3    40\n",
      "dtype: int64\n",
      "1    20\n",
      "2    30\n",
      "dtype: int64\n"
     ]
    }
   ],
   "source": [
    "import pandas as pd\n",
    "\n",
    "obj = pd.Series([10, 20, 30, 40])\n",
    "print(obj)\n",
    "print(obj.values)\n",
    "print(obj.index)\n",
    "print(type(obj))\n",
    "print(obj.index, obj.values, sep='\\n')\n",
    "print(obj[0], obj[1], obj[[2,3]], sep='\\n\\n')\n",
    "print(obj[1:3])\n"
   ]
  },
  {
   "cell_type": "code",
   "execution_count": 10,
   "id": "28efcc48",
   "metadata": {},
   "outputs": [
    {
     "name": "stdout",
     "output_type": "stream",
     "text": [
      "Label1      NaN\n",
      "Label2    120.0\n",
      "Label3    230.0\n",
      "Label4    340.0\n",
      "Label5      NaN\n",
      "dtype: float64\n",
      "Label1      NaN\n",
      "Label2     80.0\n",
      "Label3    170.0\n",
      "Label4    260.0\n",
      "Label5      NaN\n",
      "dtype: float64\n",
      "Label2    20\n",
      "Label3    30\n",
      "dtype: int64\n"
     ]
    }
   ],
   "source": [
    "obj = pd.Series([10,20,30,40],index = ['Label1','Label2','Label3','Label4'])\n",
    "obj1 = pd.Series([100,200,300,400],index = ['Label2','Label3','Label4','Label5'])\n",
    "print(obj + obj1)\n",
    "print(obj1 - obj)\n",
    "print(obj['Label2':'Label3'])"
   ]
  },
  {
   "cell_type": "code",
   "execution_count": 15,
   "id": "7c13a028",
   "metadata": {},
   "outputs": [
    {
     "name": "stdout",
     "output_type": "stream",
     "text": [
      "a    10\n",
      "b    20\n",
      "c    30\n",
      "d    40\n",
      "dtype: int64\n",
      "d    40.0\n",
      "c    30.0\n",
      "b    20.0\n",
      "a    10.0\n",
      "e     NaN\n",
      "dtype: float64\n",
      "d    False\n",
      "c    False\n",
      "b    False\n",
      "a    False\n",
      "e     True\n",
      "dtype: bool\n",
      "d     True\n",
      "c     True\n",
      "b     True\n",
      "a     True\n",
      "e    False\n",
      "dtype: bool\n"
     ]
    }
   ],
   "source": [
    "dict = {'a':10,'b':20,'c':30,'d':40}\n",
    "obj3 = pd.Series(dict)\n",
    "print(obj3)\n",
    "index = ['d','c','b','a','e']\n",
    "obj4 = pd.Series(dict,index=index)\n",
    "print(obj4)\n",
    "#obj4['e'] = 50\n",
    "print(obj4.isnull())\n",
    "print(obj4.notnull())"
   ]
  },
  {
   "cell_type": "code",
   "execution_count": 22,
   "id": "afb670ac",
   "metadata": {},
   "outputs": [
    {
     "name": "stdout",
     "output_type": "stream",
     "text": [
      "ObjectName\n",
      "ObjectName\n"
     ]
    },
    {
     "data": {
      "application/vnd.microsoft.datawrangler.viewer.v0+json": {
       "columns": [
        {
         "name": "IndexName",
         "rawType": "object",
         "type": "string"
        },
        {
         "name": "ObjectName",
         "rawType": "float64",
         "type": "float"
        }
       ],
       "ref": "4d888140-f93e-40b7-9101-7a331a4f464d",
       "rows": [
        [
         "Label1",
         "40.0"
        ],
        [
         "Label2",
         "30.0"
        ],
        [
         "Label3",
         "20.0"
        ],
        [
         "Label4",
         "10.0"
        ],
        [
         "Label5",
         null
        ]
       ],
       "shape": {
        "columns": 1,
        "rows": 5
       }
      },
      "text/plain": [
       "IndexName\n",
       "Label1    40.0\n",
       "Label2    30.0\n",
       "Label3    20.0\n",
       "Label4    10.0\n",
       "Label5     NaN\n",
       "Name: ObjectName, dtype: float64"
      ]
     },
     "execution_count": 22,
     "metadata": {},
     "output_type": "execute_result"
    }
   ],
   "source": [
    "print(obj4.name)\n",
    "obj4.name = 'ObjectName'\n",
    "print(obj4.name)\n",
    "\n",
    "obj4.index = ['Label1','Label2','Label3','Label4','Label5']\n",
    "obj4.index.name = 'IndexName'\n",
    "obj4"
   ]
  },
  {
   "cell_type": "code",
   "execution_count": null,
   "id": "98d22ea4",
   "metadata": {},
   "outputs": [
    {
     "data": {
      "application/vnd.microsoft.datawrangler.viewer.v0+json": {
       "columns": [
        {
         "name": "index",
         "rawType": "int64",
         "type": "integer"
        },
        {
         "name": "year",
         "rawType": "int64",
         "type": "integer"
        },
        {
         "name": "state",
         "rawType": "object",
         "type": "string"
        },
        {
         "name": "name",
         "rawType": "object",
         "type": "string"
        },
        {
         "name": "NewCol",
         "rawType": "object",
         "type": "unknown"
        }
       ],
       "ref": "d034427d-fce5-4011-8e82-353418341e97",
       "rows": [
        [
         "0",
         "2000",
         "Ohio",
         "John",
         null
        ],
        [
         "1",
         "2001",
         "Ohio",
         "Mike",
         null
        ],
        [
         "2",
         "2002",
         "Ohio",
         "Sara",
         null
        ],
        [
         "3",
         "2001",
         "Nevada",
         "Anna",
         null
        ],
        [
         "4",
         "2002",
         "Nevada",
         "Tom",
         null
        ]
       ],
       "shape": {
        "columns": 4,
        "rows": 5
       }
      },
      "text/html": [
       "<div>\n",
       "<style scoped>\n",
       "    .dataframe tbody tr th:only-of-type {\n",
       "        vertical-align: middle;\n",
       "    }\n",
       "\n",
       "    .dataframe tbody tr th {\n",
       "        vertical-align: top;\n",
       "    }\n",
       "\n",
       "    .dataframe thead th {\n",
       "        text-align: right;\n",
       "    }\n",
       "</style>\n",
       "<table border=\"1\" class=\"dataframe\">\n",
       "  <thead>\n",
       "    <tr style=\"text-align: right;\">\n",
       "      <th></th>\n",
       "      <th>year</th>\n",
       "      <th>state</th>\n",
       "      <th>name</th>\n",
       "      <th>NewCol</th>\n",
       "    </tr>\n",
       "  </thead>\n",
       "  <tbody>\n",
       "    <tr>\n",
       "      <th>0</th>\n",
       "      <td>2000</td>\n",
       "      <td>Ohio</td>\n",
       "      <td>John</td>\n",
       "      <td>NaN</td>\n",
       "    </tr>\n",
       "    <tr>\n",
       "      <th>1</th>\n",
       "      <td>2001</td>\n",
       "      <td>Ohio</td>\n",
       "      <td>Mike</td>\n",
       "      <td>NaN</td>\n",
       "    </tr>\n",
       "    <tr>\n",
       "      <th>2</th>\n",
       "      <td>2002</td>\n",
       "      <td>Ohio</td>\n",
       "      <td>Sara</td>\n",
       "      <td>NaN</td>\n",
       "    </tr>\n",
       "    <tr>\n",
       "      <th>3</th>\n",
       "      <td>2001</td>\n",
       "      <td>Nevada</td>\n",
       "      <td>Anna</td>\n",
       "      <td>NaN</td>\n",
       "    </tr>\n",
       "    <tr>\n",
       "      <th>4</th>\n",
       "      <td>2002</td>\n",
       "      <td>Nevada</td>\n",
       "      <td>Tom</td>\n",
       "      <td>NaN</td>\n",
       "    </tr>\n",
       "  </tbody>\n",
       "</table>\n",
       "</div>"
      ],
      "text/plain": [
       "   year   state  name NewCol\n",
       "0  2000    Ohio  John    NaN\n",
       "1  2001    Ohio  Mike    NaN\n",
       "2  2002    Ohio  Sara    NaN\n",
       "3  2001  Nevada  Anna    NaN\n",
       "4  2002  Nevada   Tom    NaN"
      ]
     },
     "execution_count": 27,
     "metadata": {},
     "output_type": "execute_result"
    }
   ],
   "source": [
    "info = {'state': ['Ohio', 'Ohio', 'Ohio', 'Nevada', 'Nevada'],\n",
    "        'year': [2000, 2001, 2002, 2001, 2002],\n",
    "        'name': ['John', 'Mike', 'Sara', 'Anna', 'Tom']}\n",
    "\n",
    "df = pd.DataFrame(info, columns=['year', 'state', 'name', 'NewCol'])\n",
    "df"
   ]
  },
  {
   "cell_type": "code",
   "execution_count": 38,
   "id": "b023adc9",
   "metadata": {},
   "outputs": [
    {
     "data": {
      "application/vnd.microsoft.datawrangler.viewer.v0+json": {
       "columns": [
        {
         "name": "index",
         "rawType": "object",
         "type": "string"
        },
        {
         "name": "year",
         "rawType": "int64",
         "type": "integer"
        },
        {
         "name": "state",
         "rawType": "object",
         "type": "string"
        },
        {
         "name": "name",
         "rawType": "object",
         "type": "string"
        },
        {
         "name": "YearValue",
         "rawType": "bool",
         "type": "boolean"
        }
       ],
       "ref": "2734cbcf-00d9-4010-aba2-3943d40abbf0",
       "rows": [
        [
         "one",
         "2000",
         "Ohio",
         "John",
         "False"
        ],
        [
         "two",
         "2001",
         "Ohio",
         "Mike",
         "False"
        ],
        [
         "three",
         "2002",
         "Ohio",
         "Sara",
         "True"
        ],
        [
         "four",
         "2001",
         "Nevada",
         "Anna",
         "False"
        ],
        [
         "five",
         "2002",
         "Nevada",
         "Tom",
         "True"
        ]
       ],
       "shape": {
        "columns": 4,
        "rows": 5
       }
      },
      "text/html": [
       "<div>\n",
       "<style scoped>\n",
       "    .dataframe tbody tr th:only-of-type {\n",
       "        vertical-align: middle;\n",
       "    }\n",
       "\n",
       "    .dataframe tbody tr th {\n",
       "        vertical-align: top;\n",
       "    }\n",
       "\n",
       "    .dataframe thead th {\n",
       "        text-align: right;\n",
       "    }\n",
       "</style>\n",
       "<table border=\"1\" class=\"dataframe\">\n",
       "  <thead>\n",
       "    <tr style=\"text-align: right;\">\n",
       "      <th></th>\n",
       "      <th>year</th>\n",
       "      <th>state</th>\n",
       "      <th>name</th>\n",
       "      <th>YearValue</th>\n",
       "    </tr>\n",
       "  </thead>\n",
       "  <tbody>\n",
       "    <tr>\n",
       "      <th>one</th>\n",
       "      <td>2000</td>\n",
       "      <td>Ohio</td>\n",
       "      <td>John</td>\n",
       "      <td>False</td>\n",
       "    </tr>\n",
       "    <tr>\n",
       "      <th>two</th>\n",
       "      <td>2001</td>\n",
       "      <td>Ohio</td>\n",
       "      <td>Mike</td>\n",
       "      <td>False</td>\n",
       "    </tr>\n",
       "    <tr>\n",
       "      <th>three</th>\n",
       "      <td>2002</td>\n",
       "      <td>Ohio</td>\n",
       "      <td>Sara</td>\n",
       "      <td>True</td>\n",
       "    </tr>\n",
       "    <tr>\n",
       "      <th>four</th>\n",
       "      <td>2001</td>\n",
       "      <td>Nevada</td>\n",
       "      <td>Anna</td>\n",
       "      <td>False</td>\n",
       "    </tr>\n",
       "    <tr>\n",
       "      <th>five</th>\n",
       "      <td>2002</td>\n",
       "      <td>Nevada</td>\n",
       "      <td>Tom</td>\n",
       "      <td>True</td>\n",
       "    </tr>\n",
       "  </tbody>\n",
       "</table>\n",
       "</div>"
      ],
      "text/plain": [
       "       year   state  name  YearValue\n",
       "one    2000    Ohio  John      False\n",
       "two    2001    Ohio  Mike      False\n",
       "three  2002    Ohio  Sara       True\n",
       "four   2001  Nevada  Anna      False\n",
       "five   2002  Nevada   Tom       True"
      ]
     },
     "execution_count": 38,
     "metadata": {},
     "output_type": "execute_result"
    }
   ],
   "source": [
    "df['NewCol'] = [50,60,70,80,90]\n",
    "rowindex = ['one','two','three','four','five']\n",
    "df = pd.DataFrame(info, columns=['year', 'state', 'name', 'NewCol'], index=rowindex)\n",
    "df['YearValue'] = df.year > 2001\n",
    "del df['NewCol']\n",
    "df"
   ]
  }
 ],
 "metadata": {
  "kernelspec": {
   "display_name": "Python 3",
   "language": "python",
   "name": "python3"
  },
  "language_info": {
   "codemirror_mode": {
    "name": "ipython",
    "version": 3
   },
   "file_extension": ".py",
   "mimetype": "text/x-python",
   "name": "python",
   "nbconvert_exporter": "python",
   "pygments_lexer": "ipython3",
   "version": "3.11.9"
  }
 },
 "nbformat": 4,
 "nbformat_minor": 5
}
